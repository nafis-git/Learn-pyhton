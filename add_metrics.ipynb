{
 "cells": [
  {
   "cell_type": "markdown",
   "id": "8c9bcc60",
   "metadata": {},
   "source": [
    "##### Write a function that accepts two lists-of-lists of numbers and returns one list-of-lists with each of the corresponding numbers in the two given lists-of-lists added together"
   ]
  },
  {
   "cell_type": "code",
   "execution_count": 18,
   "id": "b582dc00",
   "metadata": {},
   "outputs": [],
   "source": [
    "def add(matrix1, matrix2):\n",
    "    return ([item1+item2  for row1,row2 in zip(matrix1,matrix2) for item1,item2 in zip(row1, row2)])\n",
    "    "
   ]
  },
  {
   "cell_type": "code",
   "execution_count": 44,
   "id": "ddd17826",
   "metadata": {},
   "outputs": [
    {
     "data": {
      "text/plain": [
       "[3, -3, -3, 3]"
      ]
     },
     "execution_count": 44,
     "metadata": {},
     "output_type": "execute_result"
    }
   ],
   "source": [
    "matrix1 = [[1, -2], [-3, 4]]\n",
    "matrix2 = [[2, -1], [0, -1]]\n",
    "add(matrix1, matrix2)"
   ]
  },
  {
   "cell_type": "markdown",
   "id": "fa9bfaa5",
   "metadata": {},
   "source": [
    "#### Now lets do it for any number of matrixes and it raises a ValueError if the given lists-of-lists aren't all the same shape\n",
    "\n",
    "\n",
    "\n",
    "\n"
   ]
  },
  {
   "cell_type": "code",
   "execution_count": 43,
   "id": "8230f439",
   "metadata": {},
   "outputs": [],
   "source": [
    "# to calculate number of given metrixes\n",
    "def len_metrices(*metrix):\n",
    "    return [len(lists) for lists in metrix]\n",
    "\n",
    "def add(*metrices):\n",
    "    len_m = len_metrices(metrices[0])\n",
    "    if any(len_metrices(m) != len_m for m in metrices) :\n",
    "        raise ValueError('The metrixs size are not same')\n",
    "\n",
    "    return ([sum(values) for rows in zip(*metrices) for values in zip(*rows)])\n",
    "    "
   ]
  },
  {
   "cell_type": "code",
   "execution_count": 40,
   "id": "430d3ae9",
   "metadata": {},
   "outputs": [
    {
     "data": {
      "text/plain": [
       "[2, 2]"
      ]
     },
     "execution_count": 40,
     "metadata": {},
     "output_type": "execute_result"
    }
   ],
   "source": [
    "len_metrices(matrix1, matrix2)"
   ]
  },
  {
   "cell_type": "code",
   "execution_count": 45,
   "id": "459be671",
   "metadata": {},
   "outputs": [
    {
     "data": {
      "text/plain": [
       "[2, -1, 3, 11, -3, 3, -3, 0, 7, -10, 11, -1]"
      ]
     },
     "execution_count": 45,
     "metadata": {},
     "output_type": "execute_result"
    }
   ],
   "source": [
    "matrix1 = [[1, -2, 3,6], [-4, 5, -6,-1], [7, -8, 9,1]]\n",
    "matrix2 = [[1, 1, 0,5], [1, -2, 3, 1], [0,-2, 2, -2]]\n",
    "matrix3 = [[3,1, 9,1], [2,7, 3,1]], [[-1,1, 2,6]]\n",
    "add(matrix1, matrix2)"
   ]
  },
  {
   "cell_type": "code",
   "execution_count": null,
   "id": "b8ea9bd6",
   "metadata": {},
   "outputs": [],
   "source": []
  }
 ],
 "metadata": {
  "kernelspec": {
   "display_name": "Python 3",
   "language": "python",
   "name": "python3"
  },
  "language_info": {
   "codemirror_mode": {
    "name": "ipython",
    "version": 3
   },
   "file_extension": ".py",
   "mimetype": "text/x-python",
   "name": "python",
   "nbconvert_exporter": "python",
   "pygments_lexer": "ipython3",
   "version": "3.8.10"
  }
 },
 "nbformat": 4,
 "nbformat_minor": 5
}
