{
 "cells": [
  {
   "cell_type": "markdown",
   "id": "d30b7b30",
   "metadata": {},
   "source": [
    "# LIST COMPREHENSION"
   ]
  },
  {
   "cell_type": "markdown",
   "id": "22d178be",
   "metadata": {},
   "source": [
    "### keywords:valueerror, zip, list comprehension"
   ]
  },
  {
   "cell_type": "markdown",
   "id": "8c9bcc60",
   "metadata": {},
   "source": [
    "##### 1 Write a function that accepts two lists-of-lists of numbers and returns one list-of-lists with each of the corresponding numbers in the two given lists-of-lists added together"
   ]
  },
  {
   "cell_type": "code",
   "execution_count": 124,
   "id": "b582dc00",
   "metadata": {},
   "outputs": [],
   "source": [
    "def add(matrix1, matrix2):\n",
    "    return ([item1+item2  for row1,row2 in zip(matrix1,matrix2) for item1,item2 in zip(row1, row2)])\n",
    "    "
   ]
  },
  {
   "cell_type": "code",
   "execution_count": 125,
   "id": "ddd17826",
   "metadata": {},
   "outputs": [
    {
     "data": {
      "text/plain": [
       "[3, -3, -3, 3]"
      ]
     },
     "execution_count": 125,
     "metadata": {},
     "output_type": "execute_result"
    }
   ],
   "source": [
    "matrix1 = [[1, -2], [-3, 4]]\n",
    "matrix2 = [[2, -1], [0, -1]]\n",
    "add(matrix1, matrix2)"
   ]
  },
  {
   "cell_type": "markdown",
   "id": "56dbdd3a",
   "metadata": {},
   "source": [
    "#### Now lets do it for any number of matrixes and it raises a ValueError if the given lists-of-lists aren't all the same shape\n",
    "\n",
    "\n",
    "\n",
    "\n"
   ]
  },
  {
   "cell_type": "code",
   "execution_count": 3,
   "id": "608cb7e9",
   "metadata": {},
   "outputs": [],
   "source": [
    "# to calculate number of given metrixes\n",
    "def len_metrices(*metrix):\n",
    "    return [len(lists) for lists in metrix]\n",
    "\n",
    "def add(*metrices):\n",
    "    len_m = len_metrices(metrices[0])\n",
    "    if any(len_metrices(m) != len_m for m in metrices) :\n",
    "        raise ValueError('The metrixs size are not same')\n",
    "\n",
    "    return ([sum(values) for rows in zip(*metrices) for values in zip(*rows)])\n",
    "    "
   ]
  },
  {
   "cell_type": "code",
   "execution_count": 4,
   "id": "2b25cf4e",
   "metadata": {},
   "outputs": [
    {
     "data": {
      "text/plain": [
       "[2, 2]"
      ]
     },
     "execution_count": 4,
     "metadata": {},
     "output_type": "execute_result"
    }
   ],
   "source": [
    "len_metrices(matrix1, matrix2)"
   ]
  },
  {
   "cell_type": "code",
   "execution_count": 5,
   "id": "d623cb9f",
   "metadata": {},
   "outputs": [
    {
     "data": {
      "text/plain": [
       "[2, -1, 3, 11, -3, 3, -3, 0, 7, -10, 11, -1]"
      ]
     },
     "execution_count": 5,
     "metadata": {},
     "output_type": "execute_result"
    }
   ],
   "source": [
    "matrix1 = [[1, -2, 3,6], [-4, 5, -6,-1], [7, -8, 9,1]]\n",
    "matrix2 = [[1, 1, 0,5], [1, -2, 3, 1], [0,-2, 2, -2]]\n",
    "matrix3 = [[3,1, 9,1], [2,7, 3,1]], [[-1,1, 2,6]]\n",
    "add(matrix1, matrix2)"
   ]
  },
  {
   "cell_type": "markdown",
   "id": "72be03cb",
   "metadata": {},
   "source": [
    "******************************************************"
   ]
  },
  {
   "cell_type": "markdown",
   "id": "031b6440",
   "metadata": {},
   "source": [
    "### 2 keywords: list of lists, list comprehension, partition, map, generator"
   ]
  },
  {
   "cell_type": "markdown",
   "id": "6a155471",
   "metadata": {},
   "source": [
    "#### write a function which accepts a string containing ranges of numbers and returns an iterable of those numbers\n",
    "EX:\n",
    "> parse_ranges('1-2,4-4,8-13')  \n",
    "> = [1, 2, 4, 8, 9, 10, 11, 12, 13]  \n",
    "> parse_ranges('0-0, 4-8, 20-20, 43-45')  \n",
    "> = [0, 4, 5, 6, 7, 8, 20, 43, 44, 45]"
   ]
  },
  {
   "cell_type": "code",
   "execution_count": 6,
   "id": "7ce62387",
   "metadata": {},
   "outputs": [],
   "source": [
    "def parse_ranges (string):\n",
    "    # to make a list of every two strings indicating two values \n",
    "    items = [i.split('-') for i in string.split(',')]\n",
    "    # to make a list of lists, each list is range of numbers between two values \n",
    "    list_list = list(map(lambda x:list(range(int(x[0]), int(x[1])+1)) , items))\n",
    "    # flat the list of list\n",
    "    return [i for item in list_list for i in item]\n",
    "    "
   ]
  },
  {
   "cell_type": "code",
   "execution_count": 7,
   "id": "a2c7e85a",
   "metadata": {},
   "outputs": [
    {
     "data": {
      "text/plain": [
       "[0, 4, 5, 6, 7, 8, 20, 43, 44, 45]"
      ]
     },
     "execution_count": 7,
     "metadata": {},
     "output_type": "execute_result"
    }
   ],
   "source": [
    "parse_ranges('0-0, 4-8, 20-20, 43-45')"
   ]
  },
  {
   "cell_type": "code",
   "execution_count": 8,
   "id": "4511d9d8",
   "metadata": {},
   "outputs": [
    {
     "data": {
      "text/plain": [
       "[1, 2, 4, 8, 9, 10, 11, 12, 13]"
      ]
     },
     "execution_count": 8,
     "metadata": {},
     "output_type": "execute_result"
    }
   ],
   "source": [
    "parse_ranges('1-2,4-4,8-13')  \n"
   ]
  },
  {
   "cell_type": "markdown",
   "id": "546f5921",
   "metadata": {},
   "source": [
    "#### update the function to return  generator and also allow individual numbers as well as pairs of two numbers"
   ]
  },
  {
   "cell_type": "code",
   "execution_count": 9,
   "id": "0e9c2443",
   "metadata": {},
   "outputs": [],
   "source": [
    "\n",
    "# to return a generator \n",
    "def parse_ranges (string):\n",
    "    # to make a list of every two strings indicating two values \n",
    "    items = string.split(',')\n",
    "    for item in items:\n",
    "        a,_,b = item.partition('-')\n",
    "        if b =='':\n",
    "            b = a\n",
    "        yield from list(range(int(a), int(b)+1))\n",
    "            \n",
    "    \n"
   ]
  },
  {
   "cell_type": "code",
   "execution_count": 10,
   "id": "e0519f27",
   "metadata": {},
   "outputs": [],
   "source": [
    "string = '0,4-8,20,43-45'\n",
    "items = [i.split('-') for i in string.split(',')]"
   ]
  },
  {
   "cell_type": "code",
   "execution_count": 11,
   "id": "10094411",
   "metadata": {},
   "outputs": [
    {
     "data": {
      "text/plain": [
       "0"
      ]
     },
     "execution_count": 11,
     "metadata": {},
     "output_type": "execute_result"
    }
   ],
   "source": [
    "n = parse_ranges('0,4-8,20,43-45')\n",
    "next(n)"
   ]
  },
  {
   "cell_type": "code",
   "execution_count": 12,
   "id": "d210c9d5",
   "metadata": {},
   "outputs": [
    {
     "data": {
      "text/plain": [
       "4"
      ]
     },
     "execution_count": 12,
     "metadata": {},
     "output_type": "execute_result"
    }
   ],
   "source": [
    "next(n)"
   ]
  },
  {
   "cell_type": "code",
   "execution_count": 13,
   "id": "4fc2e8ad",
   "metadata": {},
   "outputs": [
    {
     "data": {
      "text/plain": [
       "5"
      ]
     },
     "execution_count": 13,
     "metadata": {},
     "output_type": "execute_result"
    }
   ],
   "source": [
    "next(n)"
   ]
  },
  {
   "cell_type": "markdown",
   "id": "0425c5da",
   "metadata": {},
   "source": [
    "#### update the function to return  generator and also allow individual numbers as well as pairs of two numbers and ignore >exit characters"
   ]
  },
  {
   "cell_type": "code",
   "execution_count": 14,
   "id": "fab5f6b6",
   "metadata": {},
   "outputs": [],
   "source": [
    "def partition(sep, group):\n",
    "    \"\"\"Return (start, end) tuple from given number group.\"\"\"\n",
    "    a, _, b = group.partition(sep)\n",
    "    return ((a, b) if b and not b.startswith('>') else (a, a))\n",
    "\n",
    "\n",
    "def parse_ranges(ranges_string):\n",
    "    \"\"\"Return iterable based on comma-separated numeric ranges.\"\"\"\n",
    "    pairs = (\n",
    "        partition('-', group)\n",
    "        for group in ranges_string.split(',')\n",
    "    )\n",
    "    return (\n",
    "        num\n",
    "        for start, stop in pairs\n",
    "        for num in range(int(start), int(stop)+1)\n",
    "    )"
   ]
  },
  {
   "cell_type": "markdown",
   "id": "f1ee07c4",
   "metadata": {},
   "source": [
    "----------------------------------------------------------------------------------------------------"
   ]
  },
  {
   "cell_type": "markdown",
   "id": "49dde98a",
   "metadata": {},
   "source": [
    "## 3 keywords: CSV_reader, zip_longest, dictionary_comprehension"
   ]
  },
  {
   "cell_type": "markdown",
   "id": "611f9f84",
   "metadata": {},
   "source": [
    " write a function called csv_columns that accepts a file object and returns a dictionary mapping CSV headers to column data for each header.\n",
    "\n",
    "If our CSV file contains this data:\n",
    "\n",
    "h1,h2\n",
    "1,2\n",
    "3,4\n",
    "Then our function will work like this:\n",
    "\n",
    "csv_columns(open('my_file.csv'))\n",
    "{'h1': ['1', '3'], 'h2': ['2', '4']}\n",
    "Your csv_columns function shouldn't close the file given to it.\n",
    "\n",
    "Note that the CSV data may have commas inside the cells as well, so a simple split-by-commas won't work. Also note that your csv_columns should accept a file object (not a filename)."
   ]
  },
  {
   "cell_type": "code",
   "execution_count": 69,
   "id": "8e2c0690",
   "metadata": {},
   "outputs": [],
   "source": [
    "import csv\n",
    "def csv_columns(csv_file):\n",
    "    reader = csv.reader(csv_file)\n",
    "    headers = next(reader)\n",
    "    return {header:columns for header, *columns in zip(headers, *reader)}      "
   ]
  },
  {
   "cell_type": "code",
   "execution_count": 72,
   "id": "d04a7a67",
   "metadata": {},
   "outputs": [
    {
     "data": {
      "text/plain": [
       "{'Title 1': ['1', '2', '3'],\n",
       " 'Title 2': ['a', 'b', 'c'],\n",
       " 'Title 3': ['08/18/07', '08/19/07', '08/20/07'],\n",
       " 'Title 4': ['Ã¥', 'âˆ«', 'Ã§']}"
      ]
     },
     "execution_count": 72,
     "metadata": {},
     "output_type": "execute_result"
    }
   ],
   "source": [
    "csv_columns(open('test.csv'))"
   ]
  },
  {
   "cell_type": "markdown",
   "id": "5b6a6aa1",
   "metadata": {},
   "source": [
    "#### Bonus #1\n",
    "For the second bonus, an optional headers argument was supposed to be accepted."
   ]
  },
  {
   "cell_type": "code",
   "execution_count": 1,
   "id": "edad1601",
   "metadata": {},
   "outputs": [],
   "source": [
    "import csv\n",
    "from itertools import zip_longest\n",
    "def csv_columns(csv_file, headers = None, missing = None):\n",
    "    reader = csv.reader(csv_file)\n",
    "    if headers is None:    \n",
    "        headers = next(reader)\n",
    "    return {header:columns for header, *columns in zip_longest(headers, *reader, fillvalue= missing)}   "
   ]
  },
  {
   "cell_type": "code",
   "execution_count": 2,
   "id": "a64e8dbd",
   "metadata": {},
   "outputs": [
    {
     "data": {
      "text/plain": [
       "{'h1': ['1', '3', '5'], 'h2': ['2', '4', None]}"
      ]
     },
     "execution_count": 2,
     "metadata": {},
     "output_type": "execute_result"
    }
   ],
   "source": [
    "csv_columns(open('test_1.csv'))"
   ]
  },
  {
   "cell_type": "code",
   "execution_count": 3,
   "id": "803fa686",
   "metadata": {},
   "outputs": [
    {
     "data": {
      "text/plain": [
       "{'h1': ['h1', '1', '3', '5'], 'h2': ['h2', '2', '4', None]}"
      ]
     },
     "execution_count": 3,
     "metadata": {},
     "output_type": "execute_result"
    }
   ],
   "source": [
    "csv_columns(open('test_1.csv'), headers = ['h1', 'h2'])"
   ]
  },
  {
   "cell_type": "markdown",
   "id": "9d7b180a",
   "metadata": {},
   "source": [
    "*************************************************************"
   ]
  },
  {
   "cell_type": "markdown",
   "id": "cc705d63",
   "metadata": {},
   "source": [
    ">create a function that determines which day of the month the San Diego Python meetup should be. The San Diego Python meetup is on the fourth Thursday of the month (ignoring US holidays, during which we reschedule it).\n",
    "\n",
    ">Your function should accept year, month arguments, week and weekday in which meeting is held. The result should return a datetime.date object representing the day of the month for the meetup.\n",
    ">>> meetup_date(2012, 3)  \n",
    "datetime.date(2012, 3, 22)  \n",
    ">>> meetup_date(2015, 2)  \n",
    "datetime.date(2015, 2, 26)  \n",
    ">>> meetup_date(2018, 6)  \n",
    "datetime.date(2018, 6, 28)  \n",
    ">>> meetup_date(2020, 1)  \n",
    "datetime.date(2020, 1, 23)  "
   ]
  },
  {
   "cell_type": "code",
   "execution_count": 133,
   "id": "e7e155ae",
   "metadata": {},
   "outputs": [],
   "source": [
    "from datetime import date\n",
    "import calendar\n",
    "def meetup_date(year, month, nth=4, weekday=3):\n",
    "    # meetings are held at fourth Thursday of each month whcih is indeicated by value 3 \n",
    "    full_weeks = calendar.Calendar().monthdatescalendar(year, month)\n",
    "    if full_weeks[0][weekday].month == month:\n",
    "        meeting = full_weeks[nth-1][weekday]\n",
    "    else:\n",
    "        meeting = full_weeks[nth][weekday]\n",
    "    return meeting\n",
    "        \n",
    "\n",
    "    "
   ]
  },
  {
   "cell_type": "code",
   "execution_count": 134,
   "id": "b29ae10f",
   "metadata": {},
   "outputs": [
    {
     "data": {
      "text/plain": [
       "datetime.date(2012, 3, 22)"
      ]
     },
     "execution_count": 134,
     "metadata": {},
     "output_type": "execute_result"
    }
   ],
   "source": [
    "meetup_date(2012, 3)"
   ]
  },
  {
   "cell_type": "code",
   "execution_count": 135,
   "id": "ca9ab0b3",
   "metadata": {},
   "outputs": [
    {
     "data": {
      "text/plain": [
       "datetime.date(2018, 7, 25)"
      ]
     },
     "execution_count": 135,
     "metadata": {},
     "output_type": "execute_result"
    }
   ],
   "source": [
    "meetup_date(2018, 7, nth=4, weekday=2)"
   ]
  },
  {
   "cell_type": "code",
   "execution_count": 136,
   "id": "346f0e47",
   "metadata": {},
   "outputs": [
    {
     "data": {
      "text/plain": [
       "datetime.date(2012, 2, 7)"
      ]
     },
     "execution_count": 136,
     "metadata": {},
     "output_type": "execute_result"
    }
   ],
   "source": [
    "meetup_date(2012, 2, nth=1, weekday=1)"
   ]
  },
  {
   "cell_type": "markdown",
   "id": "f955c7d7",
   "metadata": {},
   "source": [
    "### Bonus\n",
    "allow your meetup_date function to accept optional arguments that allow it to be used for other meetups as well. Aso to accept negative value for nth "
   ]
  },
  {
   "cell_type": "code",
   "execution_count": 217,
   "id": "a8499432",
   "metadata": {},
   "outputs": [],
   "source": [
    "import datetime\n",
    "import calendar\n",
    "def meetup_date(year, month, nth=4, weekday=3):\n",
    "    # meetings are held at fourth Thursday of each month whcih is indeicated by value 3 \n",
    "    len_month = (date(year, month+1, 1) - date(year, month, 1)).days\n",
    "    weekdays = []\n",
    "    for days in range(1,len_month+1):\n",
    "        if datetime.date(year, month, days).weekday() == weekday:\n",
    "            weekdays.append(days)\n",
    "    if nth>0:\n",
    "        the_day =  weekdays[nth-1]\n",
    "    else:\n",
    "        the_day = weekdays[nth]\n",
    "    return datetime.date(year, month, the_day)\n",
    "        "
   ]
  },
  {
   "cell_type": "code",
   "execution_count": 183,
   "id": "b93024e8",
   "metadata": {},
   "outputs": [
    {
     "data": {
      "text/plain": [
       "datetime.date(2012, 2, 23)"
      ]
     },
     "execution_count": 183,
     "metadata": {},
     "output_type": "execute_result"
    }
   ],
   "source": [
    "meetup_date(2012, 2)"
   ]
  },
  {
   "cell_type": "code",
   "execution_count": 186,
   "id": "e6ad6b10",
   "metadata": {},
   "outputs": [
    {
     "data": {
      "text/plain": [
       "datetime.date(2010, 6, 25)"
      ]
     },
     "execution_count": 186,
     "metadata": {},
     "output_type": "execute_result"
    }
   ],
   "source": [
    "meetup_date(2010, 6, nth=-1, weekday=4)"
   ]
  },
  {
   "cell_type": "code",
   "execution_count": 188,
   "id": "7fdc77f0",
   "metadata": {},
   "outputs": [
    {
     "data": {
      "text/plain": [
       "datetime.date(2020, 1, 31)"
      ]
     },
     "execution_count": 188,
     "metadata": {},
     "output_type": "execute_result"
    }
   ],
   "source": [
    "meetup_date(2020, 1, nth=-1, weekday=4)"
   ]
  },
  {
   "cell_type": "markdown",
   "id": "51c864fb",
   "metadata": {},
   "source": [
    "### bonous\n",
    "create a Weekday object that can be used to more clearly specify days without using magic numbers"
   ]
  },
  {
   "cell_type": "code",
   "execution_count": 211,
   "id": "2fa05a90",
   "metadata": {},
   "outputs": [],
   "source": [
    "# [i.upper() for i in ['Monday', 'Tuesday', 'Wednesday', 'Thursday', 'Friday', 'Saturday', 'Sunday']]"
   ]
  },
  {
   "cell_type": "code",
   "execution_count": null,
   "id": "b3ddd232",
   "metadata": {},
   "outputs": [],
   "source": [
    "# creat an weekday object"
   ]
  },
  {
   "cell_type": "code",
   "execution_count": 212,
   "id": "912fffb2",
   "metadata": {},
   "outputs": [],
   "source": [
    "\n",
    "class Weekday():\n",
    "    MONDAY=0\n",
    "    TUESDAY=1\n",
    "    WEDNESDAY=2\n",
    "    THURSDAY=3\n",
    "    FRIDAY=4\n",
    "    SATURDAY=5\n",
    "    SUNDAY=6\n",
    "    "
   ]
  },
  {
   "cell_type": "code",
   "execution_count": 213,
   "id": "93784765",
   "metadata": {},
   "outputs": [],
   "source": [
    "import datetime\n",
    "import calendar\n",
    "def meetup_date(year, month, nth=4, weekday=Weekday.WEDNESDAY):\n",
    "    # meetings are held at fourth Thursday of each month whcih is indeicated by value 3 \n",
    "    len_month = (date(year, month+1, 1) - date(year, month, 1)).days\n",
    "    weekdays = []\n",
    "    for days in range(1,len_month+1):\n",
    "        if datetime.date(year, month, days).weekday() == weekday:\n",
    "            weekdays.append(days)\n",
    "    if nth>0:\n",
    "        the_day =  weekdays[nth-1]\n",
    "    else:\n",
    "        the_day = weekdays[nth]\n",
    "    return datetime.date(year, month, the_day)"
   ]
  },
  {
   "cell_type": "code",
   "execution_count": 214,
   "id": "22c1f108",
   "metadata": {},
   "outputs": [
    {
     "name": "stdout",
     "output_type": "stream",
     "text": [
      "SDJS 2012-02-07\n"
     ]
    }
   ],
   "source": [
    "print(\"SDJS\", meetup_date(2012, 2, nth=1, weekday=Weekday.TUESDAY))"
   ]
  },
  {
   "cell_type": "code",
   "execution_count": 216,
   "id": "df162b74",
   "metadata": {},
   "outputs": [
    {
     "data": {
      "text/plain": [
       "(4, 30)"
      ]
     },
     "execution_count": 216,
     "metadata": {},
     "output_type": "execute_result"
    }
   ],
   "source": [
    "calendar.monthrange(2012, 6)"
   ]
  },
  {
   "cell_type": "markdown",
   "id": "a86ba6ce",
   "metadata": {},
   "source": [
    "********************************************************************************"
   ]
  },
  {
   "cell_type": "markdown",
   "id": "94b0ce72",
   "metadata": {},
   "source": [
    "### 4"
   ]
  },
  {
   "cell_type": "markdown",
   "id": "5edf50ca",
   "metadata": {},
   "source": [
    "function that accepts a sequence and a number n and returns one list-of-lists containing lists of size n.\n",
    "\n",
    "It should work something like this:\n",
    "\n",
    ">>> for chunk in chunked([1, 2, 3, 4, 5], n=2):  \n",
    "...     print(*chunk)  \n",
    "...\n",
    "1 2  \n",
    "3 4  \n",
    "5   \n",
    "\n",
    "\n",
    ">>> for chunk in chunked(range(10), 4):  \n",
    "...     print(tuple(chunk))    \n",
    "...\n",
    "(0, 1, 2, 3)  \n",
    "(4, 5, 6, 7)  \n",
    "(8, 9)  "
   ]
  },
  {
   "cell_type": "code",
   "execution_count": 23,
   "id": "0e21af04",
   "metadata": {},
   "outputs": [],
   "source": [
    "def chunked(sequence, n):\n",
    "    sequence = list(sequence)\n",
    "    try:\n",
    "        yield from (sequence[i:i+n] for i in range(0, len(sequence), n))\n",
    "    except TypeError:\n",
    "        sequence = list(sequence)\n",
    "        yield from (sequence[i:i+n] for i in range(0, len(sequence), n))     \n"
   ]
  },
  {
   "cell_type": "code",
   "execution_count": 24,
   "id": "97496c1e",
   "metadata": {},
   "outputs": [
    {
     "name": "stdout",
     "output_type": "stream",
     "text": [
      "1 2\n",
      "3 4\n",
      "5\n"
     ]
    }
   ],
   "source": [
    "for chunk in chunked([1, 2, 3, 4, 5], n=2):  \n",
    "    print(*chunk) "
   ]
  },
  {
   "cell_type": "code",
   "execution_count": 25,
   "id": "64e2c5ad",
   "metadata": {},
   "outputs": [
    {
     "name": "stdout",
     "output_type": "stream",
     "text": [
      "(0, 1, 2, 3)\n",
      "(4, 5, 6, 7)\n",
      "(8, 9)\n"
     ]
    }
   ],
   "source": [
    "for chunk in chunked(range(10), 4):  \n",
    "    print(tuple(chunk))    "
   ]
  },
  {
   "cell_type": "code",
   "execution_count": null,
   "id": "d2fa4e12",
   "metadata": {},
   "outputs": [],
   "source": [
    "\n",
    "        "
   ]
  },
  {
   "cell_type": "code",
   "execution_count": 26,
   "id": "d9578d38",
   "metadata": {},
   "outputs": [
    {
     "data": {
      "text/plain": [
       "<generator object chunked at 0x0000020D4A0B8350>"
      ]
     },
     "execution_count": 26,
     "metadata": {},
     "output_type": "execute_result"
    }
   ],
   "source": [
    "squares = (n**2 for n in range(6))\n",
    "chunked(squares, 3)"
   ]
  },
  {
   "cell_type": "code",
   "execution_count": 27,
   "id": "b04ff075",
   "metadata": {},
   "outputs": [
    {
     "name": "stdout",
     "output_type": "stream",
     "text": [
      "0 1 4\n",
      "9 16 25\n"
     ]
    }
   ],
   "source": [
    "squares = (n**2 for n in range(6))\n",
    "for chunk in chunked(squares, 3):\n",
    "    print(*chunk)"
   ]
  },
  {
   "cell_type": "code",
   "execution_count": 28,
   "id": "3e27cdae",
   "metadata": {},
   "outputs": [
    {
     "data": {
      "text/plain": [
       "(0, 1, 4)"
      ]
     },
     "execution_count": 28,
     "metadata": {},
     "output_type": "execute_result"
    }
   ],
   "source": [
    "squares = (n**2 for n in range(6))\n",
    "chunks = chunked(squares, 3)\n",
    "tuple(next(chunks))\n",
    "\n"
   ]
  },
  {
   "cell_type": "code",
   "execution_count": 30,
   "id": "d046616c",
   "metadata": {},
   "outputs": [
    {
     "data": {
      "text/plain": [
       "(9, 16, 25)"
      ]
     },
     "execution_count": 30,
     "metadata": {},
     "output_type": "execute_result"
    }
   ],
   "source": [
    "tuple(next(chunks))"
   ]
  },
  {
   "cell_type": "markdown",
   "id": "1f17b014",
   "metadata": {},
   "source": [
    "**********************************************"
   ]
  },
  {
   "cell_type": "markdown",
   "id": "a11bcc02",
   "metadata": {},
   "source": [
    "### 5 Keywords: map, list comprehension, timedelta, datetime, divmod, zip_longest "
   ]
  },
  {
   "cell_type": "markdown",
   "id": "8aee456d",
   "metadata": {},
   "source": [
    "write a function that accepts a list of timestamps (in the format MM:SS) and returns a timestamp that is a sum of all the given times.\n",
    "\n",
    "For example:\n",
    "\n",
    "> sum_timestamps(['5:32', '4:48'])  \n",
    "'10:20'  \n",
    ">sum_timestamps(['03:10', '01:00'])  \n",
    "'4:10'  \n",
    ">sum_timestamps(['2:10', '1:59'])  \n",
    "'4:09'"
   ]
  },
  {
   "cell_type": "code",
   "execution_count": 204,
   "id": "59e49ee6",
   "metadata": {},
   "outputs": [],
   "source": [
    "import datetime \n",
    "def sum_timestamps(times):\n",
    "    d = map(lambda x:x.split(':'), times)\n",
    "    t = map(lambda x:(int(x[0])*60+int(x[1])) , d)\n",
    "    sum_sec = sum(t)\n",
    "    mins, secs = divmod(sum_sec, 60)\n",
    "    if mins//60 !=0:\n",
    "        hours, mins = divmod(mins, 60)\n",
    "        return f'{hours}:{mins:0>2d}:{secs:0>2d}'\n",
    "    else:\n",
    "        return f'{mins}:{secs:0>2d}'\n",
    "    \n",
    "\n",
    "        \n",
    "  \n",
    "    "
   ]
  },
  {
   "cell_type": "code",
   "execution_count": 205,
   "id": "5e980563",
   "metadata": {},
   "outputs": [
    {
     "data": {
      "text/plain": [
       "'10:20'"
      ]
     },
     "execution_count": 205,
     "metadata": {},
     "output_type": "execute_result"
    }
   ],
   "source": [
    "sum_timestamps(['5:32', '4:48'])"
   ]
  },
  {
   "cell_type": "code",
   "execution_count": 206,
   "id": "5295fad6",
   "metadata": {},
   "outputs": [
    {
     "data": {
      "text/plain": [
       "'4:10'"
      ]
     },
     "execution_count": 206,
     "metadata": {},
     "output_type": "execute_result"
    }
   ],
   "source": [
    "sum_timestamps(['03:10', '01:00']) "
   ]
  },
  {
   "cell_type": "code",
   "execution_count": 207,
   "id": "a122e6fd",
   "metadata": {},
   "outputs": [
    {
     "data": {
      "text/plain": [
       "'4:09'"
      ]
     },
     "execution_count": 207,
     "metadata": {},
     "output_type": "execute_result"
    }
   ],
   "source": [
    "sum_timestamps(['2:10', '1:59'])"
   ]
  },
  {
   "cell_type": "code",
   "execution_count": 295,
   "id": "5d01277d",
   "metadata": {},
   "outputs": [
    {
     "data": {
      "text/plain": [
       "'3:01:20'"
      ]
     },
     "execution_count": 295,
     "metadata": {},
     "output_type": "execute_result"
    }
   ],
   "source": [
    "sum_timestamps(['15:32', '2:45:48'])"
   ]
  },
  {
   "cell_type": "code",
   "execution_count": 294,
   "id": "25cd8568",
   "metadata": {},
   "outputs": [],
   "source": [
    "import datetime \n",
    "from itertools import zip_longest\n",
    "def sum_timestamps(times):\n",
    "    # we can also use list comprehension \n",
    "    # d = [x.split(':') for x in times]\n",
    "    d = map(lambda x:x.split(':'), times)\n",
    "    # we reverse it beacuse we want to use zip_longest and as there might be no hour for a time entry so we need to pair hour with zero \n",
    "    d_1 = [reversed(i) for i in d]\n",
    "    # to piar hours, minutes,and seconds we use zip_longest\n",
    "    times_splits = list(zip_longest(*d_1, fillvalue = 0))\n",
    "    # change the strings to integers\n",
    "    ints = list(map(lambda x:[int(i) for i in x] , times_splits))\n",
    "    # sum of hours, minutes and seconds seperately\n",
    "    sums = list(map(lambda x:sum(x) , ints))\n",
    "    # to check if there is any hour or minute in our sum \n",
    "    if len(sums)== 2:\n",
    "        sums[2] = 0\n",
    "    if len(sums) == 1:\n",
    "        sums[2] = sums[1] = 0\n",
    "    sum_sec = sums[0]+sums[1]*60 + sums[2]*3600\n",
    "    mins, secs = divmod(sum_sec, 60)\n",
    "    if mins//60 !=0:\n",
    "        hours, mins = divmod(mins, 60)\n",
    "        return f'{hours}:{mins:0>2d}:{secs:0>2d}'\n",
    "    else:\n",
    "        return f'{mins}:{secs:0>2d}'\n"
   ]
  },
  {
   "cell_type": "code",
   "execution_count": 296,
   "id": "c7bfed19",
   "metadata": {},
   "outputs": [
    {
     "data": {
      "text/plain": [
       "'9:01:20'"
      ]
     },
     "execution_count": 296,
     "metadata": {},
     "output_type": "execute_result"
    }
   ],
   "source": [
    "sum_timestamps(['6:15:32', '2:45:48'])"
   ]
  },
  {
   "cell_type": "code",
   "execution_count": 297,
   "id": "cb31567f",
   "metadata": {},
   "outputs": [
    {
     "data": {
      "text/plain": [
       "'10:01:30'"
      ]
     },
     "execution_count": 297,
     "metadata": {},
     "output_type": "execute_result"
    }
   ],
   "source": [
    "sum_timestamps(['6:35:32', '2:45:48', '40:10'])"
   ]
  },
  {
   "cell_type": "markdown",
   "id": "23d5e020",
   "metadata": {},
   "source": [
    "_____________________________________________________________________________"
   ]
  },
  {
   "cell_type": "markdown",
   "id": "f43bbed5",
   "metadata": {},
   "source": [
    "### 6"
   ]
  },
  {
   "cell_type": "markdown",
   "id": "d4535894",
   "metadata": {},
   "source": [
    "write a function, format_fixed_width, that accepts rows of columns (as a list of lists) and returns a fixed-width formatted string representing the given rows.\n",
    "\n",
    "For example:\n",
    "\n",
    "> print(format_fixed_width([['green', 'red'], ['blue', 'purple']]))  \n",
    "green  red  \n",
    "blue   purple  \n",
    "The padding between the columns should be 2 spaces. Whitespace on the right-hand side of each line should be trimmed and columns should be left-justified."
   ]
  },
  {
   "cell_type": "code",
   "execution_count": 113,
   "id": "f7a38db0",
   "metadata": {},
   "outputs": [],
   "source": [
    "# return distance between each item from its previous item in each row\n",
    "def distance_cols(listi, padding = 2):\n",
    "    cols_len = list(map(lambda x:[len(i) for i in x],zip(*listi)))\n",
    "    cols_max= list(map(lambda x:max(x), cols_len))\n",
    "    distnace = list(map(lambda x:[x[1]-i+padding for i in x[0]], zip(cols_len, cols_max)))\n",
    "    return list(zip(*distnace))\n",
    "def format_fixed_width(listi, padding = 2):\n",
    "    distance_items = distance_cols(listi)\n",
    "    format_items = ''\n",
    "    for r, rows in enumerate(listi):\n",
    "        format_item = f'{rows[0]}'\n",
    "        for i, item in enumerate(rows[1:]):\n",
    "            width = distance_items[r][i]\n",
    "            format_item+= ''.ljust(width)+item\n",
    "        format_items += f'{format_item}\\n'\n",
    "    return format_items[:-1]"
   ]
  },
  {
   "cell_type": "code",
   "execution_count": 114,
   "id": "17672de4",
   "metadata": {},
   "outputs": [
    {
     "name": "stdout",
     "output_type": "stream",
     "text": [
      "green  red     yu\n",
      "blue   purple  frei\n"
     ]
    }
   ],
   "source": [
    "print(format_fixed_width([['green', 'red','yu'], ['blue', 'purple', 'frei']]))  "
   ]
  },
  {
   "cell_type": "code",
   "execution_count": 115,
   "id": "f34b5134",
   "metadata": {},
   "outputs": [
    {
     "name": "stdout",
     "output_type": "stream",
     "text": [
      "Robyn     Henry    Lawrence\n",
      "John      Barbara  Gross\n",
      "Jennifer           Bixler\n"
     ]
    }
   ],
   "source": [
    "rows = [['Robyn', 'Henry', 'Lawrence'], ['John', 'Barbara', 'Gross'], ['Jennifer', '', 'Bixler']]\n",
    "print(format_fixed_width(rows, padding=1))"
   ]
  },
  {
   "cell_type": "markdown",
   "id": "a58ad679",
   "metadata": {},
   "source": [
    "### Bonus 2\n",
    "For the second bonus, allow column widths to be specified manually with an optional widths keyword argument:\n",
    "\n",
    ">rows = [[\"Jane\", \"\", \"Austen\"], [\"Samuel\", \"Langhorne\", \"Clemens\"]]  \n",
    ">print(format_fixed_width(rows, widths=[10, 10, 10]))  \n",
    "Jane                    Austen  \n",
    "Samuel      Langhorne   Clemens  "
   ]
  },
  {
   "cell_type": "code",
   "execution_count": 121,
   "id": "9ad420f0",
   "metadata": {},
   "outputs": [],
   "source": [
    "def format_fixed_width(listi, padding = 2, widths=[10, 10, 10]):\n",
    "    distance_items = distance_cols(listi)\n",
    "    format_items = ''\n",
    "    for r, rows in enumerate(listi):\n",
    "        format_item = f'{rows[0]: <{widths[0]}}'\n",
    "        for i, item in enumerate(rows[1:]):\n",
    "            format_item+= f'{item: <{widths[i+1]}}'\n",
    "        format_items += f'{format_item}\\n'\n",
    "    return format_items[:-1]"
   ]
  },
  {
   "cell_type": "code",
   "execution_count": 122,
   "id": "d68c2ec1",
   "metadata": {},
   "outputs": [
    {
     "name": "stdout",
     "output_type": "stream",
     "text": [
      "Jane                Austen    \n",
      "Samuel    Langhorne Clemens   \n"
     ]
    }
   ],
   "source": [
    "rows = [[\"Jane\", \"\", \"Austen\"], [\"Samuel\", \"Langhorne\", \"Clemens\"]]\n",
    "print(format_fixed_width(rows, widths=[10, 10, 10]))\n"
   ]
  },
  {
   "cell_type": "code",
   "execution_count": null,
   "id": "891a52aa",
   "metadata": {},
   "outputs": [],
   "source": []
  }
 ],
 "metadata": {
  "kernelspec": {
   "display_name": "Python 3",
   "language": "python",
   "name": "python3"
  },
  "language_info": {
   "codemirror_mode": {
    "name": "ipython",
    "version": 3
   },
   "file_extension": ".py",
   "mimetype": "text/x-python",
   "name": "python",
   "nbconvert_exporter": "python",
   "pygments_lexer": "ipython3",
   "version": "3.8.10"
  }
 },
 "nbformat": 4,
 "nbformat_minor": 5
}
